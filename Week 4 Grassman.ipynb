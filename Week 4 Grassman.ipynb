{
 "cells": [
  {
   "cell_type": "markdown",
   "id": "0d6c3367-a66a-4832-a033-932d106f2d45",
   "metadata": {},
   "source": [
    "**Simple Harmonic Motion**\n",
    "Potential Energy: \n",
    "\n",
    "$ U = 1/2 k x^2 $\n",
    "\n",
    "$ F = -k x = m a = mx\" $\n",
    "\n",
    "\n"
   ]
  },
  {
   "cell_type": "code",
   "execution_count": 13,
   "id": "64d9f882-d643-4912-855d-6905a1e35690",
   "metadata": {},
   "outputs": [
    {
     "name": "stdout",
     "output_type": "stream",
     "text": [
      "['__doc__', '__loader__', '__name__', '__package__', '__spec__', 'acos', 'acosh', 'asin', 'asinh', 'atan', 'atan2', 'atanh', 'ceil', 'comb', 'copysign', 'cos', 'cosh', 'degrees', 'dist', 'e', 'erf', 'erfc', 'exp', 'expm1', 'fabs', 'factorial', 'floor', 'fmod', 'frexp', 'fsum', 'gamma', 'gcd', 'hypot', 'inf', 'isclose', 'isfinite', 'isinf', 'isnan', 'isqrt', 'lcm', 'ldexp', 'lgamma', 'log', 'log10', 'log1p', 'log2', 'modf', 'nan', 'nextafter', 'perm', 'pi', 'pow', 'prod', 'radians', 'remainder', 'sin', 'sinh', 'sqrt', 'tan', 'tanh', 'tau', 'trunc', 'ulp']\n"
     ]
    }
   ],
   "source": [
    "#import math library\n",
    "import math\n",
    "print(dir(math))\n",
    "\n",
    "# define harmonic motion function\n",
    "def harmonic_motion (t, omega, x0, v0):\n",
    "    \"\"\"\n",
    "    This function outputs the position and velocity of a harmonic oscillator (spring-mass system) at a desired time.\n",
    "\n",
    "    Input:\n",
    "    t: time in seconds\n",
    "    omega: resonant frequency (omega = sqrt(k/m)\n",
    "    x0: the initial position\n",
    "    v0: the initial velocity\n",
    "\n",
    "    Output/Return:\n",
    "    x: position at time t\n",
    "    v: velocity at time t\n",
    "    \n",
    "    \"\"\"\n",
    "    # position as a function of time\n",
    "    x = x0 * math.cos(omega * t) * math.sin(omega * t)\n",
    "\n",
    "    #velocity as a function of time\n",
    "    v = - omega * x0 * math.sin(omega *t) + v0 * math.cos(omega * t)\n",
    "\n",
    "    return x, v\n",
    "\n",
    "\n"
   ]
  },
  {
   "cell_type": "raw",
   "id": "d21bb596-7f78-407e-95ce-e6805572a902",
   "metadata": {},
   "source": [
    "note: we know at time 0, x = x0 and v = v0"
   ]
  },
  {
   "cell_type": "code",
   "execution_count": 15,
   "id": "18480c07-d4a5-4f95-8c89-7ef7711d75b2",
   "metadata": {},
   "outputs": [],
   "source": [
    "#testing out function:\n",
    "time = 0 #time in seconds (units tbd)\n",
    "omega = 1 #units to be determined\n",
    "initial_position = 3.1 # units to be determined\n",
    "initial_velocity = 2.0 #units tbd\n",
    "position, velocity = harmonic_motion(time, omega, initial_position, initial_velocity)"
   ]
  },
  {
   "cell_type": "raw",
   "id": "da7965e9-a696-42b6-a8fa-f1120c21d021",
   "metadata": {},
   "source": [
    "repeat testing out function t = 2pi*omega (should get +), pi*omega (should get -)"
   ]
  },
  {
   "cell_type": "code",
   "execution_count": null,
   "id": "083009ac-83ee-4f6a-9e97-d6d6013d80b3",
   "metadata": {},
   "outputs": [],
   "source": []
  }
 ],
 "metadata": {
  "kernelspec": {
   "display_name": "Python 3 (ipykernel)",
   "language": "python",
   "name": "python3"
  },
  "language_info": {
   "codemirror_mode": {
    "name": "ipython",
    "version": 3
   },
   "file_extension": ".py",
   "mimetype": "text/x-python",
   "name": "python",
   "nbconvert_exporter": "python",
   "pygments_lexer": "ipython3",
   "version": "3.9.19"
  }
 },
 "nbformat": 4,
 "nbformat_minor": 5
}
