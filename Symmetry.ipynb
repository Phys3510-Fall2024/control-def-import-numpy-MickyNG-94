{
 "cells": [
  {
   "cell_type": "raw",
   "id": "6da9ead0-5afd-46ef-a97c-dd6552d93b51",
   "metadata": {},
   "source": [
    "Assignment: Find if the 4 objects are even or odd about the 4 operations\n",
    "\n"
   ]
  },
  {
   "cell_type": "code",
   "execution_count": 73,
   "id": "dbb0db38-5ebc-4f34-a158-34a9be51a6e1",
   "metadata": {},
   "outputs": [
    {
     "name": "stdout",
     "output_type": "stream",
     "text": [
      "Inversion:\n",
      "[[-1  0  0]\n",
      " [ 0 -1  0]\n",
      " [ 0  0 -1]]\n",
      "Mirror_Z:\n",
      "[[-1  0  0]\n",
      " [ 0 -1  0]\n",
      " [ 0  0  1]]\n",
      "Mirror_X:\n",
      "[[ 1  0  0]\n",
      " [ 0 -1  0]\n",
      " [ 0  0 -1]]\n"
     ]
    }
   ],
   "source": [
    "Inversion = Inv = np.array([[-1, 0, 0], [0, -1, 0], [0, 0, -1]])\n",
    "\n",
    "Mirror_z = MirZ = np.array([[-1, 0, 0], [0, -1, 0], [0, 0, 1]])\n",
    "\n",
    "Mirror_x = MirX = np.array([[1, 0, 0], [0, -1, 0], [0, 0, -1]])\n",
    "\n",
    "#Rotation_180\n",
    "\n",
    "print(\"Inversion:\")\n",
    "print(Inv)\n",
    "print(\"Mirror_Z:\")\n",
    "print(MirZ)\n",
    "print(\"Mirror_X:\")\n",
    "print(MirX)"
   ]
  },
  {
   "cell_type": "code",
   "execution_count": 60,
   "id": "3c7ea1df-014d-40dc-be0d-fd3e2cadb0f7",
   "metadata": {},
   "outputs": [
    {
     "name": "stdout",
     "output_type": "stream",
     "text": [
      "Identity: [[1 0 0]\n",
      " [0 1 0]\n",
      " [0 0 1]]\n"
     ]
    }
   ],
   "source": [
    "#Identity\n",
    "\n",
    "\n",
    "a = np.array([1, 0, 0])\n",
    "b = np.array([0, 1, 0])\n",
    "c = np.array([0, 0, 1])\n",
    "\n",
    "Identity = I = np.array([a, b, c])\n",
    "print(\"Identity:\", I)\n"
   ]
  },
  {
   "cell_type": "code",
   "execution_count": 66,
   "id": "42a10bf4-8ceb-4232-9742-304105f5e6a6",
   "metadata": {
    "scrolled": true
   },
   "outputs": [
    {
     "name": "stdout",
     "output_type": "stream",
     "text": [
      "Scalar: 1\n",
      "Pseudoscalar: 1\n",
      "Pseudovector: [0 0 1]\n",
      "Axial Vector: [0 0 1]\n"
     ]
    }
   ],
   "source": [
    "#Defining the Objects:\n",
    "\n",
    "SC = Scalar = np.dot(c, c)\n",
    "\n",
    "print(\"Scalar:\", SC)\n",
    "\n",
    "\n",
    "PS = Pseudoscalar = np.dot(c, np.cross(a, b))\n",
    "\n",
    "print(\"Pseudoscalar:\", PS)\n",
    "\n",
    "\n",
    "PV = Pseudovector = c\n",
    "\n",
    "print(\"Pseudovector:\", PV)\n",
    "\n",
    "\n",
    "AV = np.cross(a, b)\n",
    "\n",
    "print(\"Axial Vector:\", AV)"
   ]
  },
  {
   "cell_type": "code",
   "execution_count": null,
   "id": "61c25f57-5895-4bba-bc88-fd304ef683b7",
   "metadata": {},
   "outputs": [],
   "source": []
  },
  {
   "cell_type": "code",
   "execution_count": 52,
   "id": "ec3121fb-e76e-4cc1-b13f-c4c9dd11a1ad",
   "metadata": {},
   "outputs": [
    {
     "data": {
      "text/plain": [
       "array([[1., 0., 0.],\n",
       "       [0., 1., 0.],\n",
       "       [0., 0., 1.]])"
      ]
     },
     "execution_count": 52,
     "metadata": {},
     "output_type": "execute_result"
    }
   ],
   "source": [
    "#Functions\n",
    "\n",
    "np.linalg.inv(Identity)\n",
    "\n"
   ]
  },
  {
   "cell_type": "markdown",
   "id": "fa5d0385-96f0-4597-adea-c9b6344d554c",
   "metadata": {},
   "source": [
    "| 1D Object | Identity | Inversion | Mirror_z | Mirror_y |\n",
    "|-----------|----------|-----------|----------|----------|\n",
    "|Scalar | 1 | Even |\n",
    "|\n",
    "|Pseudoscalar | 1 |\n",
    "|\n",
    "|Polar Vector | 1 |\n",
    "|\n",
    "|Axial Vector | 1 |\n"
   ]
  },
  {
   "cell_type": "raw",
   "id": "8f472c64-c94e-4628-85d2-ffa9349205c3",
   "metadata": {},
   "source": [
    "Misc notes:\n",
    "\n",
    "Tables:\n",
    "\n",
    "|Header|...\n",
    "|------|...\n",
    "|...\n",
    "\n"
   ]
  }
 ],
 "metadata": {
  "kernelspec": {
   "display_name": "Python 3 (ipykernel)",
   "language": "python",
   "name": "python3"
  },
  "language_info": {
   "codemirror_mode": {
    "name": "ipython",
    "version": 3
   },
   "file_extension": ".py",
   "mimetype": "text/x-python",
   "name": "python",
   "nbconvert_exporter": "python",
   "pygments_lexer": "ipython3",
   "version": "3.9.19"
  }
 },
 "nbformat": 4,
 "nbformat_minor": 5
}
